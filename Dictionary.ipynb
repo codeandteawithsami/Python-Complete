{
 "cells": [
  {
   "cell_type": "code",
   "execution_count": 1,
   "id": "0e1d573d",
   "metadata": {},
   "outputs": [],
   "source": [
    "#Key :values pairs\n",
    "#Ordered ---> changeable ---->donot allow duplicate"
   ]
  },
  {
   "cell_type": "code",
   "execution_count": 2,
   "id": "e6348afa",
   "metadata": {},
   "outputs": [],
   "source": [
    "d = {\n",
    "    \"vlu1\":\"1\",\n",
    "    \"vlu2\":\"2\",\n",
    "    \"vlu3\":\"3\",\n",
    "    \"vlu4\":\"4\",\n",
    "}"
   ]
  },
  {
   "cell_type": "code",
   "execution_count": 5,
   "id": "20dae160",
   "metadata": {},
   "outputs": [
    {
     "data": {
      "text/plain": [
       "'1'"
      ]
     },
     "execution_count": 5,
     "metadata": {},
     "output_type": "execute_result"
    }
   ],
   "source": [
    "d[\"vlu1\"]"
   ]
  },
  {
   "cell_type": "code",
   "execution_count": 44,
   "id": "402f6332",
   "metadata": {},
   "outputs": [],
   "source": [
    "d = {\n",
    "    \"vlu1\":\"1\",\n",
    "    \"vlu2\":\"2\",\n",
    "    \"vlu3\":\"3\",\n",
    "    \"vlu3\":\"4\",\n",
    "}"
   ]
  },
  {
   "cell_type": "code",
   "execution_count": 7,
   "id": "0ca2b028",
   "metadata": {},
   "outputs": [
    {
     "data": {
      "text/plain": [
       "{'vlu1': '1', 'vlu2': '2', 'vlu3': '4'}"
      ]
     },
     "execution_count": 7,
     "metadata": {},
     "output_type": "execute_result"
    }
   ],
   "source": [
    "d"
   ]
  },
  {
   "cell_type": "code",
   "execution_count": 8,
   "id": "18c2849f",
   "metadata": {},
   "outputs": [
    {
     "data": {
      "text/plain": [
       "3"
      ]
     },
     "execution_count": 8,
     "metadata": {},
     "output_type": "execute_result"
    }
   ],
   "source": [
    "len(d)"
   ]
  },
  {
   "cell_type": "code",
   "execution_count": 9,
   "id": "acb58467",
   "metadata": {},
   "outputs": [
    {
     "data": {
      "text/plain": [
       "dict"
      ]
     },
     "execution_count": 9,
     "metadata": {},
     "output_type": "execute_result"
    }
   ],
   "source": [
    "type(d)"
   ]
  },
  {
   "cell_type": "code",
   "execution_count": 10,
   "id": "c95b0fdb",
   "metadata": {},
   "outputs": [],
   "source": [
    "# Access"
   ]
  },
  {
   "cell_type": "code",
   "execution_count": 11,
   "id": "2a8eec54",
   "metadata": {},
   "outputs": [
    {
     "name": "stdout",
     "output_type": "stream",
     "text": [
      "1\n"
     ]
    }
   ],
   "source": [
    "print(d['vlu1'])"
   ]
  },
  {
   "cell_type": "code",
   "execution_count": 12,
   "id": "f507b2c9",
   "metadata": {},
   "outputs": [
    {
     "data": {
      "text/plain": [
       "'1'"
      ]
     },
     "execution_count": 12,
     "metadata": {},
     "output_type": "execute_result"
    }
   ],
   "source": [
    "d.get('vlu1')"
   ]
  },
  {
   "cell_type": "code",
   "execution_count": 13,
   "id": "8a4696ec",
   "metadata": {},
   "outputs": [
    {
     "data": {
      "text/plain": [
       "dict_keys(['vlu1', 'vlu2', 'vlu3'])"
      ]
     },
     "execution_count": 13,
     "metadata": {},
     "output_type": "execute_result"
    }
   ],
   "source": [
    "d.keys()"
   ]
  },
  {
   "cell_type": "code",
   "execution_count": 14,
   "id": "0a5df0c2",
   "metadata": {},
   "outputs": [
    {
     "data": {
      "text/plain": [
       "dict_values(['1', '2', '4'])"
      ]
     },
     "execution_count": 14,
     "metadata": {},
     "output_type": "execute_result"
    }
   ],
   "source": [
    "d.values()"
   ]
  },
  {
   "cell_type": "code",
   "execution_count": 15,
   "id": "35226fab",
   "metadata": {},
   "outputs": [
    {
     "data": {
      "text/plain": [
       "dict_items([('vlu1', '1'), ('vlu2', '2'), ('vlu3', '4')])"
      ]
     },
     "execution_count": 15,
     "metadata": {},
     "output_type": "execute_result"
    }
   ],
   "source": [
    "d.items()"
   ]
  },
  {
   "cell_type": "code",
   "execution_count": 17,
   "id": "af4a73b7",
   "metadata": {},
   "outputs": [
    {
     "name": "stdout",
     "output_type": "stream",
     "text": [
      "nope\n"
     ]
    }
   ],
   "source": [
    "if \"vlu5\" in d:\n",
    "    print(\"yes\")\n",
    "else:\n",
    "    print(\"nope\")"
   ]
  },
  {
   "cell_type": "code",
   "execution_count": 21,
   "id": "c6fe7951",
   "metadata": {},
   "outputs": [
    {
     "data": {
      "text/plain": [
       "{'vlu1': '1', 'vlu2': 10, 'vlu3': '4'}"
      ]
     },
     "execution_count": 21,
     "metadata": {},
     "output_type": "execute_result"
    }
   ],
   "source": [
    "#How to change value\n",
    "d"
   ]
  },
  {
   "cell_type": "code",
   "execution_count": 22,
   "id": "ac7a544b",
   "metadata": {},
   "outputs": [],
   "source": [
    "d['vlu2'] = 10"
   ]
  },
  {
   "cell_type": "code",
   "execution_count": 20,
   "id": "8d2045d4",
   "metadata": {},
   "outputs": [
    {
     "data": {
      "text/plain": [
       "{'vlu1': '1', 'vlu2': 10, 'vlu3': '4'}"
      ]
     },
     "execution_count": 20,
     "metadata": {},
     "output_type": "execute_result"
    }
   ],
   "source": [
    "d"
   ]
  },
  {
   "cell_type": "code",
   "execution_count": 23,
   "id": "9215de91",
   "metadata": {},
   "outputs": [
    {
     "data": {
      "text/plain": [
       "{'vlu1': '1', 'vlu2': 10, 'vlu3': '4'}"
      ]
     },
     "execution_count": 23,
     "metadata": {},
     "output_type": "execute_result"
    }
   ],
   "source": [
    "d"
   ]
  },
  {
   "cell_type": "code",
   "execution_count": 25,
   "id": "a328dd00",
   "metadata": {},
   "outputs": [],
   "source": [
    "d.update({'vlu2': 12})"
   ]
  },
  {
   "cell_type": "code",
   "execution_count": 26,
   "id": "0fe80a7e",
   "metadata": {},
   "outputs": [
    {
     "data": {
      "text/plain": [
       "{'vlu1': '1', 'vlu2': 12, 'vlu3': '4'}"
      ]
     },
     "execution_count": 26,
     "metadata": {},
     "output_type": "execute_result"
    }
   ],
   "source": [
    "d"
   ]
  },
  {
   "cell_type": "code",
   "execution_count": 27,
   "id": "8bf3483f",
   "metadata": {},
   "outputs": [],
   "source": [
    "#Add items in Dict"
   ]
  },
  {
   "cell_type": "code",
   "execution_count": 28,
   "id": "2f49f914",
   "metadata": {},
   "outputs": [
    {
     "data": {
      "text/plain": [
       "{'vlu1': '1', 'vlu2': 12, 'vlu3': '4'}"
      ]
     },
     "execution_count": 28,
     "metadata": {},
     "output_type": "execute_result"
    }
   ],
   "source": [
    "d"
   ]
  },
  {
   "cell_type": "code",
   "execution_count": 29,
   "id": "fa5c8eb7",
   "metadata": {},
   "outputs": [],
   "source": [
    "d['vlu4'] = 45"
   ]
  },
  {
   "cell_type": "code",
   "execution_count": 30,
   "id": "6f9ba042",
   "metadata": {},
   "outputs": [
    {
     "data": {
      "text/plain": [
       "{'vlu1': '1', 'vlu2': 12, 'vlu3': '4', 'vlu4': 45}"
      ]
     },
     "execution_count": 30,
     "metadata": {},
     "output_type": "execute_result"
    }
   ],
   "source": [
    "d"
   ]
  },
  {
   "cell_type": "code",
   "execution_count": 31,
   "id": "6749b8ef",
   "metadata": {},
   "outputs": [],
   "source": [
    "d.update({'vlu5': 12})"
   ]
  },
  {
   "cell_type": "code",
   "execution_count": 32,
   "id": "f6ba4c11",
   "metadata": {},
   "outputs": [
    {
     "data": {
      "text/plain": [
       "{'vlu1': '1', 'vlu2': 12, 'vlu3': '4', 'vlu4': 45, 'vlu5': 12}"
      ]
     },
     "execution_count": 32,
     "metadata": {},
     "output_type": "execute_result"
    }
   ],
   "source": [
    "d"
   ]
  },
  {
   "cell_type": "code",
   "execution_count": 33,
   "id": "919a819e",
   "metadata": {},
   "outputs": [],
   "source": [
    "#Remove items"
   ]
  },
  {
   "cell_type": "code",
   "execution_count": 34,
   "id": "cd8bbf21",
   "metadata": {},
   "outputs": [
    {
     "data": {
      "text/plain": [
       "'1'"
      ]
     },
     "execution_count": 34,
     "metadata": {},
     "output_type": "execute_result"
    }
   ],
   "source": [
    "d.pop('vlu1')"
   ]
  },
  {
   "cell_type": "code",
   "execution_count": 35,
   "id": "d9a75f81",
   "metadata": {},
   "outputs": [
    {
     "data": {
      "text/plain": [
       "{'vlu2': 12, 'vlu3': '4', 'vlu4': 45, 'vlu5': 12}"
      ]
     },
     "execution_count": 35,
     "metadata": {},
     "output_type": "execute_result"
    }
   ],
   "source": [
    "d"
   ]
  },
  {
   "cell_type": "code",
   "execution_count": 36,
   "id": "ed4d1fc0",
   "metadata": {},
   "outputs": [
    {
     "data": {
      "text/plain": [
       "('vlu5', 12)"
      ]
     },
     "execution_count": 36,
     "metadata": {},
     "output_type": "execute_result"
    }
   ],
   "source": [
    "d.popitem()"
   ]
  },
  {
   "cell_type": "code",
   "execution_count": 37,
   "id": "9292d8e8",
   "metadata": {},
   "outputs": [
    {
     "data": {
      "text/plain": [
       "{'vlu2': 12, 'vlu3': '4', 'vlu4': 45}"
      ]
     },
     "execution_count": 37,
     "metadata": {},
     "output_type": "execute_result"
    }
   ],
   "source": [
    "d"
   ]
  },
  {
   "cell_type": "code",
   "execution_count": 38,
   "id": "ed5919c7",
   "metadata": {},
   "outputs": [],
   "source": [
    "del d['vlu2']"
   ]
  },
  {
   "cell_type": "code",
   "execution_count": 39,
   "id": "e5a46eb8",
   "metadata": {},
   "outputs": [
    {
     "data": {
      "text/plain": [
       "{'vlu3': '4', 'vlu4': 45}"
      ]
     },
     "execution_count": 39,
     "metadata": {},
     "output_type": "execute_result"
    }
   ],
   "source": [
    "d"
   ]
  },
  {
   "cell_type": "code",
   "execution_count": 40,
   "id": "43dadbca",
   "metadata": {},
   "outputs": [],
   "source": [
    "d.clear()"
   ]
  },
  {
   "cell_type": "code",
   "execution_count": 41,
   "id": "13f07a81",
   "metadata": {},
   "outputs": [
    {
     "data": {
      "text/plain": [
       "{}"
      ]
     },
     "execution_count": 41,
     "metadata": {},
     "output_type": "execute_result"
    }
   ],
   "source": [
    "d"
   ]
  },
  {
   "cell_type": "code",
   "execution_count": 42,
   "id": "6db1ea7a",
   "metadata": {},
   "outputs": [],
   "source": [
    "del d"
   ]
  },
  {
   "cell_type": "code",
   "execution_count": 45,
   "id": "88200415",
   "metadata": {},
   "outputs": [
    {
     "data": {
      "text/plain": [
       "{'vlu1': '1', 'vlu2': '2', 'vlu3': '4'}"
      ]
     },
     "execution_count": 45,
     "metadata": {},
     "output_type": "execute_result"
    }
   ],
   "source": [
    "d"
   ]
  },
  {
   "cell_type": "code",
   "execution_count": 46,
   "id": "aa6bf3e9",
   "metadata": {},
   "outputs": [
    {
     "name": "stdout",
     "output_type": "stream",
     "text": [
      "vlu1\n",
      "vlu2\n",
      "vlu3\n"
     ]
    }
   ],
   "source": [
    "for x in d:\n",
    "    print(x)"
   ]
  },
  {
   "cell_type": "code",
   "execution_count": 47,
   "id": "45a00f3d",
   "metadata": {},
   "outputs": [
    {
     "name": "stdout",
     "output_type": "stream",
     "text": [
      "1\n",
      "2\n",
      "4\n"
     ]
    }
   ],
   "source": [
    "for x  in d:\n",
    "    print(d[x])"
   ]
  },
  {
   "cell_type": "code",
   "execution_count": 49,
   "id": "3c0b0608",
   "metadata": {},
   "outputs": [
    {
     "name": "stdout",
     "output_type": "stream",
     "text": [
      "1\n",
      "2\n",
      "4\n"
     ]
    }
   ],
   "source": [
    "for x in d.values():\n",
    "    print(x)"
   ]
  },
  {
   "cell_type": "code",
   "execution_count": 50,
   "id": "0fd97b8a",
   "metadata": {},
   "outputs": [
    {
     "name": "stdout",
     "output_type": "stream",
     "text": [
      "vlu1\n",
      "vlu2\n",
      "vlu3\n"
     ]
    }
   ],
   "source": [
    "for x in d.keys():\n",
    "    print(x)"
   ]
  },
  {
   "cell_type": "code",
   "execution_count": 51,
   "id": "20927cdb",
   "metadata": {},
   "outputs": [
    {
     "name": "stdout",
     "output_type": "stream",
     "text": [
      "vlu1 1\n",
      "vlu2 2\n",
      "vlu3 4\n"
     ]
    }
   ],
   "source": [
    "for x,y in d.items():\n",
    "    print(x,y)"
   ]
  },
  {
   "cell_type": "code",
   "execution_count": 52,
   "id": "ed6a7962",
   "metadata": {},
   "outputs": [
    {
     "data": {
      "text/plain": [
       "{'vlu1': '1', 'vlu2': '2', 'vlu3': '4'}"
      ]
     },
     "execution_count": 52,
     "metadata": {},
     "output_type": "execute_result"
    }
   ],
   "source": [
    "d"
   ]
  },
  {
   "cell_type": "code",
   "execution_count": 53,
   "id": "167dd352",
   "metadata": {},
   "outputs": [],
   "source": [
    "d1 = d.copy()"
   ]
  },
  {
   "cell_type": "code",
   "execution_count": 54,
   "id": "9e83ea0b",
   "metadata": {},
   "outputs": [
    {
     "data": {
      "text/plain": [
       "{'vlu1': '1', 'vlu2': '2', 'vlu3': '4'}"
      ]
     },
     "execution_count": 54,
     "metadata": {},
     "output_type": "execute_result"
    }
   ],
   "source": [
    "d1"
   ]
  },
  {
   "cell_type": "code",
   "execution_count": 55,
   "id": "b5488a32",
   "metadata": {},
   "outputs": [],
   "source": [
    "d2 = dict(d1)"
   ]
  },
  {
   "cell_type": "code",
   "execution_count": 56,
   "id": "ce5e9dd0",
   "metadata": {},
   "outputs": [
    {
     "data": {
      "text/plain": [
       "{'vlu1': '1', 'vlu2': '2', 'vlu3': '4'}"
      ]
     },
     "execution_count": 56,
     "metadata": {},
     "output_type": "execute_result"
    }
   ],
   "source": [
    "d2"
   ]
  },
  {
   "cell_type": "code",
   "execution_count": 57,
   "id": "4853da17",
   "metadata": {},
   "outputs": [],
   "source": [
    "# Nested Dictionary"
   ]
  },
  {
   "cell_type": "code",
   "execution_count": 62,
   "id": "517bc8db",
   "metadata": {},
   "outputs": [],
   "source": [
    "fam = {\n",
    "    'd' : {\n",
    "        \"vlu1\":\"1\",\n",
    "        \"vlu2\":\"2\",\n",
    "        \"vlu3\":\"3\",\n",
    "        \"vlu4\":\"4\",\n",
    "    },\n",
    "    'd1' : {\n",
    "        \"vlu1\":\"8\",\n",
    "        \"vlu2\":\"2\",\n",
    "        \"vlu3\":\"3\",\n",
    "        \"vlu4\":\"4\",\n",
    "    }\n",
    "}"
   ]
  },
  {
   "cell_type": "code",
   "execution_count": 63,
   "id": "baf985e1",
   "metadata": {},
   "outputs": [
    {
     "data": {
      "text/plain": [
       "{'d': {'vlu1': '1', 'vlu2': '2', 'vlu3': '3', 'vlu4': '4'},\n",
       " 'd1': {'vlu1': '8', 'vlu2': '2', 'vlu3': '3', 'vlu4': '4'}}"
      ]
     },
     "execution_count": 63,
     "metadata": {},
     "output_type": "execute_result"
    }
   ],
   "source": [
    "fam"
   ]
  },
  {
   "cell_type": "code",
   "execution_count": 64,
   "id": "a45f7fdf",
   "metadata": {},
   "outputs": [
    {
     "name": "stdout",
     "output_type": "stream",
     "text": [
      "8\n"
     ]
    }
   ],
   "source": [
    "print(fam[\"d1\"]['vlu1'])"
   ]
  },
  {
   "cell_type": "code",
   "execution_count": null,
   "id": "31ee24a5",
   "metadata": {},
   "outputs": [],
   "source": []
  }
 ],
 "metadata": {
  "kernelspec": {
   "display_name": "Python 3 (ipykernel)",
   "language": "python",
   "name": "python3"
  },
  "language_info": {
   "codemirror_mode": {
    "name": "ipython",
    "version": 3
   },
   "file_extension": ".py",
   "mimetype": "text/x-python",
   "name": "python",
   "nbconvert_exporter": "python",
   "pygments_lexer": "ipython3",
   "version": "3.11.2"
  }
 },
 "nbformat": 4,
 "nbformat_minor": 5
}
