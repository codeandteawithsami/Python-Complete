{
 "cells": [
  {
   "cell_type": "code",
   "execution_count": 9,
   "id": "7947dba0",
   "metadata": {},
   "outputs": [],
   "source": [
    "a = 43\n",
    "b = 43\n",
    "if a > b:\n",
    "    print(\" a is greater\")"
   ]
  },
  {
   "cell_type": "code",
   "execution_count": 10,
   "id": "1396616e",
   "metadata": {},
   "outputs": [],
   "source": [
    "if a > b:\n",
    "    print(\" a is greater\")\n",
    "elif a < b :\n",
    "    print(\" b is greater\")"
   ]
  },
  {
   "cell_type": "code",
   "execution_count": 12,
   "id": "0ba2de05",
   "metadata": {},
   "outputs": [
    {
     "name": "stdout",
     "output_type": "stream",
     "text": [
      "a is equal to b\n"
     ]
    }
   ],
   "source": [
    "if a > b:\n",
    "    print(\" a is greater\")\n",
    "elif a < b :\n",
    "    print(\" b is greater\")\n",
    "elif a == b:\n",
    "    print('a is equal to b')\n",
    "else:\n",
    "    print('No solutioons baita')"
   ]
  },
  {
   "cell_type": "code",
   "execution_count": 14,
   "id": "224aecbf",
   "metadata": {},
   "outputs": [
    {
     "name": "stdout",
     "output_type": "stream",
     "text": [
      "a is grater\n"
     ]
    }
   ],
   "source": [
    "if a == b : print(\"a is grater\")"
   ]
  },
  {
   "cell_type": "code",
   "execution_count": 15,
   "id": "4c90a16b",
   "metadata": {},
   "outputs": [],
   "source": [
    "#Short hand if else"
   ]
  },
  {
   "cell_type": "code",
   "execution_count": 16,
   "id": "51fb644f",
   "metadata": {},
   "outputs": [
    {
     "data": {
      "text/plain": [
       "43"
      ]
     },
     "execution_count": 16,
     "metadata": {},
     "output_type": "execute_result"
    }
   ],
   "source": [
    "a"
   ]
  },
  {
   "cell_type": "code",
   "execution_count": 17,
   "id": "2fccac1a",
   "metadata": {},
   "outputs": [
    {
     "data": {
      "text/plain": [
       "43"
      ]
     },
     "execution_count": 17,
     "metadata": {},
     "output_type": "execute_result"
    }
   ],
   "source": [
    "b"
   ]
  },
  {
   "cell_type": "code",
   "execution_count": 19,
   "id": "9dd966fb",
   "metadata": {},
   "outputs": [
    {
     "name": "stdout",
     "output_type": "stream",
     "text": [
      "a is equal to b\n"
     ]
    }
   ],
   "source": [
    "print(\"A is grater\") if a > b else print('=') if a > b else print('a is equal to b') "
   ]
  },
  {
   "cell_type": "code",
   "execution_count": 20,
   "id": "5f66fbef",
   "metadata": {},
   "outputs": [],
   "source": [
    "a = 54\n",
    "b = 87\n",
    "c = 67"
   ]
  },
  {
   "cell_type": "code",
   "execution_count": 21,
   "id": "92d9a7b8",
   "metadata": {},
   "outputs": [],
   "source": [
    "if a > b and c > a:\n",
    "    print('both are good')"
   ]
  },
  {
   "cell_type": "code",
   "execution_count": 22,
   "id": "fb9632f2",
   "metadata": {},
   "outputs": [
    {
     "name": "stdout",
     "output_type": "stream",
     "text": [
      "both are good\n"
     ]
    }
   ],
   "source": [
    "if a > b or c > a:\n",
    "    print('both are good')"
   ]
  },
  {
   "cell_type": "code",
   "execution_count": 23,
   "id": "17d528c9",
   "metadata": {},
   "outputs": [
    {
     "name": "stdout",
     "output_type": "stream",
     "text": [
      "a is not greater than b\n"
     ]
    }
   ],
   "source": [
    "if not a > b:\n",
    "    print('a is not greater than b')"
   ]
  },
  {
   "cell_type": "code",
   "execution_count": 24,
   "id": "4d0059a1",
   "metadata": {},
   "outputs": [
    {
     "name": "stdout",
     "output_type": "stream",
     "text": [
      "Above ten, \n",
      "also above 20\n"
     ]
    }
   ],
   "source": [
    "x = 87\n",
    "if x > 10:\n",
    "    print(\"Above ten, \")\n",
    "    if x > 20:\n",
    "        print(\"also above 20\")\n",
    "    else:\n",
    "        print('no worries bro')"
   ]
  },
  {
   "cell_type": "code",
   "execution_count": 26,
   "id": "255c1734",
   "metadata": {},
   "outputs": [],
   "source": [
    "if b < a:\n",
    "    pass"
   ]
  },
  {
   "cell_type": "code",
   "execution_count": null,
   "id": "4716e14e",
   "metadata": {},
   "outputs": [],
   "source": [
    "#task \n",
    "#nested if else\n",
    "#operators"
   ]
  }
 ],
 "metadata": {
  "kernelspec": {
   "display_name": "Python 3 (ipykernel)",
   "language": "python",
   "name": "python3"
  },
  "language_info": {
   "codemirror_mode": {
    "name": "ipython",
    "version": 3
   },
   "file_extension": ".py",
   "mimetype": "text/x-python",
   "name": "python",
   "nbconvert_exporter": "python",
   "pygments_lexer": "ipython3",
   "version": "3.11.2"
  }
 },
 "nbformat": 4,
 "nbformat_minor": 5
}
