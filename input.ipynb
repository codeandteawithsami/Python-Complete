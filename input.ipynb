{
 "cells": [
  {
   "cell_type": "code",
   "execution_count": 2,
   "id": "eaca3532",
   "metadata": {},
   "outputs": [
    {
     "name": "stdout",
     "output_type": "stream",
     "text": [
      "Enter you value: 56\n",
      "THE INPUT IS :  56\n"
     ]
    }
   ],
   "source": [
    "inp = input(\"Enter you value: \")\n",
    "print(\"THE INPUT IS : \",inp)"
   ]
  },
  {
   "cell_type": "code",
   "execution_count": 6,
   "id": "5d161330",
   "metadata": {},
   "outputs": [
    {
     "name": "stdout",
     "output_type": "stream",
     "text": [
      "Enter you value: 7\n",
      "THE INPUT IS :  7\n"
     ]
    }
   ],
   "source": [
    "inp = int(input(\"Enter you value: \"))\n",
    "print(\"THE INPUT IS : \",inp)"
   ]
  },
  {
   "cell_type": "code",
   "execution_count": 10,
   "id": "107f3a9f",
   "metadata": {},
   "outputs": [
    {
     "name": "stdout",
     "output_type": "stream",
     "text": [
      "Enter you value: 6.6\n",
      "THE INPUT IS :  6.6\n"
     ]
    }
   ],
   "source": [
    "inp = float(input(\"Enter you value: \"))\n",
    "print(\"THE INPUT IS : \",inp)"
   ]
  },
  {
   "cell_type": "code",
   "execution_count": 13,
   "id": "e39d6b3b",
   "metadata": {},
   "outputs": [
    {
     "name": "stdout",
     "output_type": "stream",
     "text": [
      "Enter you value: 8.7\n",
      "THE INPUT IS :  8.7\n"
     ]
    }
   ],
   "source": [
    "inp = str(input(\"Enter you value: \"))\n",
    "print(\"THE INPUT IS : \",inp)"
   ]
  },
  {
   "cell_type": "code",
   "execution_count": null,
   "id": "fc3b3876",
   "metadata": {},
   "outputs": [],
   "source": []
  }
 ],
 "metadata": {
  "kernelspec": {
   "display_name": "Python 3 (ipykernel)",
   "language": "python",
   "name": "python3"
  },
  "language_info": {
   "codemirror_mode": {
    "name": "ipython",
    "version": 3
   },
   "file_extension": ".py",
   "mimetype": "text/x-python",
   "name": "python",
   "nbconvert_exporter": "python",
   "pygments_lexer": "ipython3",
   "version": "3.11.2"
  }
 },
 "nbformat": 4,
 "nbformat_minor": 5
}
