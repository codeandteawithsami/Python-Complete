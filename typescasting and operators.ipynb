{
 "cells": [
  {
   "cell_type": "code",
   "execution_count": 15,
   "id": "e3b7eb80",
   "metadata": {},
   "outputs": [
    {
     "name": "stdout",
     "output_type": "stream",
     "text": [
      "<class 'str'>\n",
      "<class 'int'>\n"
     ]
    }
   ],
   "source": [
    "#typescasting ----> conversion from one DT to other\n",
    "a = '65'\n",
    "print(type(a))\n",
    "b = 87\n",
    "c = 4.5\n",
    "\n",
    "y = int(a)\n",
    "print(type(y))\n",
    "\n",
    "\n",
    "#str\n",
    "\n",
    "\n",
    "\n",
    "#float\n",
    "\n",
    "\n",
    "\n",
    "\n",
    "#complex\n",
    "\n",
    "\n",
    "\n"
   ]
  },
  {
   "cell_type": "code",
   "execution_count": 18,
   "id": "3821163f",
   "metadata": {},
   "outputs": [
    {
     "name": "stdout",
     "output_type": "stream",
     "text": [
      "15\n",
      "81\n",
      "0.6436781609195402\n"
     ]
    }
   ],
   "source": [
    "#Arithematic operations\n",
    "#=,-,/,%\n",
    "print(10+5)\n",
    "print(90-9)\n",
    "a = 56\n",
    "b = 87\n",
    "c = a/b\n",
    "print(c)\n",
    "\n",
    "\n",
    "\n"
   ]
  },
  {
   "cell_type": "code",
   "execution_count": 20,
   "id": "173defbf",
   "metadata": {},
   "outputs": [
    {
     "name": "stdout",
     "output_type": "stream",
     "text": [
      "7\n"
     ]
    }
   ],
   "source": [
    "#assignment operators\n",
    "a = 6\n",
    "a +=1\n",
    "print(a)"
   ]
  },
  {
   "cell_type": "code",
   "execution_count": 27,
   "id": "d01c4f46",
   "metadata": {},
   "outputs": [
    {
     "name": "stdout",
     "output_type": "stream",
     "text": [
      "False\n",
      "False\n",
      "True\n"
     ]
    }
   ],
   "source": [
    "#comparison\n",
    "\n",
    "a = 8\n",
    "b = 9\n",
    "c = a == b\n",
    "d = a>b\n",
    "g = a != b\n",
    "print(c);print(d);print(g)\n",
    "\n",
    "\n"
   ]
  },
  {
   "cell_type": "code",
   "execution_count": 30,
   "id": "e5456cbf",
   "metadata": {},
   "outputs": [
    {
     "name": "stdout",
     "output_type": "stream",
     "text": [
      "False\n",
      "True\n"
     ]
    }
   ],
   "source": [
    "#logical\n",
    "a = False\n",
    "b = True\n",
    "c = a and b\n",
    "print(c)\n",
    "v = a or b\n",
    "print(v)\n",
    "\n"
   ]
  },
  {
   "cell_type": "code",
   "execution_count": 35,
   "id": "bd56f2a3",
   "metadata": {},
   "outputs": [
    {
     "name": "stdout",
     "output_type": "stream",
     "text": [
      "True\n",
      "False\n"
     ]
    }
   ],
   "source": [
    "#memebership\n",
    "s = 'babababbabababa'\n",
    "print('b' in s)\n",
    "print('b' not in s)"
   ]
  },
  {
   "cell_type": "code",
   "execution_count": null,
   "id": "ab900e98",
   "metadata": {},
   "outputs": [],
   "source": []
  }
 ],
 "metadata": {
  "kernelspec": {
   "display_name": "Python 3 (ipykernel)",
   "language": "python",
   "name": "python3"
  },
  "language_info": {
   "codemirror_mode": {
    "name": "ipython",
    "version": 3
   },
   "file_extension": ".py",
   "mimetype": "text/x-python",
   "name": "python",
   "nbconvert_exporter": "python",
   "pygments_lexer": "ipython3",
   "version": "3.11.2"
  }
 },
 "nbformat": 4,
 "nbformat_minor": 5
}
