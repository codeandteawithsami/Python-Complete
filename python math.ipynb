{
 "cells": [
  {
   "cell_type": "markdown",
   "id": "7ce05cd5",
   "metadata": {},
   "source": [
    "# Mathematicle constant"
   ]
  },
  {
   "cell_type": "code",
   "execution_count": null,
   "id": "050e7209",
   "metadata": {},
   "outputs": [],
   "source": [
    "#!pip install math"
   ]
  },
  {
   "cell_type": "code",
   "execution_count": 9,
   "id": "4427d8b4",
   "metadata": {},
   "outputs": [],
   "source": [
    "import math"
   ]
  },
  {
   "cell_type": "code",
   "execution_count": 10,
   "id": "f1a7ba81",
   "metadata": {},
   "outputs": [
    {
     "data": {
      "text/plain": [
       "3.141592653589793"
      ]
     },
     "execution_count": 10,
     "metadata": {},
     "output_type": "execute_result"
    }
   ],
   "source": [
    "math.pi"
   ]
  },
  {
   "cell_type": "code",
   "execution_count": 13,
   "id": "21c87d08",
   "metadata": {},
   "outputs": [
    {
     "data": {
      "text/plain": [
       "2.718281828459045"
      ]
     },
     "execution_count": 13,
     "metadata": {},
     "output_type": "execute_result"
    }
   ],
   "source": [
    "#exp cons\n",
    "math.e"
   ]
  },
  {
   "cell_type": "markdown",
   "id": "68891129",
   "metadata": {},
   "source": [
    "# Basic mathimaticle function"
   ]
  },
  {
   "cell_type": "code",
   "execution_count": 14,
   "id": "07253619",
   "metadata": {},
   "outputs": [
    {
     "data": {
      "text/plain": [
       "2.0"
      ]
     },
     "execution_count": 14,
     "metadata": {},
     "output_type": "execute_result"
    }
   ],
   "source": [
    "math.sqrt(4)"
   ]
  },
  {
   "cell_type": "code",
   "execution_count": 15,
   "id": "18f124e5",
   "metadata": {},
   "outputs": [
    {
     "data": {
      "text/plain": [
       "81.0"
      ]
     },
     "execution_count": 15,
     "metadata": {},
     "output_type": "execute_result"
    }
   ],
   "source": [
    "math.pow(3,4) # return x raise to the power of y"
   ]
  },
  {
   "cell_type": "code",
   "execution_count": 17,
   "id": "bea7f503",
   "metadata": {},
   "outputs": [],
   "source": [
    "x = 20\n"
   ]
  },
  {
   "cell_type": "code",
   "execution_count": 18,
   "id": "11d429be",
   "metadata": {},
   "outputs": [
    {
     "data": {
      "text/plain": [
       "485165195.4097903"
      ]
     },
     "execution_count": 18,
     "metadata": {},
     "output_type": "execute_result"
    }
   ],
   "source": [
    "math.exp(x)"
   ]
  },
  {
   "cell_type": "code",
   "execution_count": 19,
   "id": "c6312c8c",
   "metadata": {},
   "outputs": [
    {
     "data": {
      "text/plain": [
       "2.995732273553991"
      ]
     },
     "execution_count": 19,
     "metadata": {},
     "output_type": "execute_result"
    }
   ],
   "source": [
    "math.log(x)"
   ]
  },
  {
   "cell_type": "code",
   "execution_count": 20,
   "id": "d611ab96",
   "metadata": {},
   "outputs": [
    {
     "data": {
      "text/plain": [
       "1.3010299956639813"
      ]
     },
     "execution_count": 20,
     "metadata": {},
     "output_type": "execute_result"
    }
   ],
   "source": [
    "math.log10(x)"
   ]
  },
  {
   "cell_type": "markdown",
   "id": "c1ca36e2",
   "metadata": {},
   "source": [
    "# Trignometric"
   ]
  },
  {
   "cell_type": "code",
   "execution_count": 21,
   "id": "b93b685e",
   "metadata": {},
   "outputs": [
    {
     "data": {
      "text/plain": [
       "0.9129452507276277"
      ]
     },
     "execution_count": 21,
     "metadata": {},
     "output_type": "execute_result"
    }
   ],
   "source": [
    "math.sin(x)"
   ]
  },
  {
   "cell_type": "code",
   "execution_count": 22,
   "id": "82d7aba8",
   "metadata": {},
   "outputs": [
    {
     "data": {
      "text/plain": [
       "0.40808206181339196"
      ]
     },
     "execution_count": 22,
     "metadata": {},
     "output_type": "execute_result"
    }
   ],
   "source": [
    "math.cos(x)"
   ]
  },
  {
   "cell_type": "code",
   "execution_count": 23,
   "id": "f44c18ba",
   "metadata": {},
   "outputs": [
    {
     "data": {
      "text/plain": [
       "2.237160944224742"
      ]
     },
     "execution_count": 23,
     "metadata": {},
     "output_type": "execute_result"
    }
   ],
   "source": [
    "math.tan(x)"
   ]
  },
  {
   "cell_type": "code",
   "execution_count": 24,
   "id": "dd0e3e22",
   "metadata": {},
   "outputs": [
    {
     "data": {
      "text/plain": [
       "1.5208379310729538"
      ]
     },
     "execution_count": 24,
     "metadata": {},
     "output_type": "execute_result"
    }
   ],
   "source": [
    "math.atan(x)"
   ]
  },
  {
   "cell_type": "markdown",
   "id": "38adeb2d",
   "metadata": {},
   "source": [
    "# Hyperbloic Function"
   ]
  },
  {
   "cell_type": "code",
   "execution_count": 25,
   "id": "06d8c228",
   "metadata": {},
   "outputs": [
    {
     "data": {
      "text/plain": [
       "242582597.70489514"
      ]
     },
     "execution_count": 25,
     "metadata": {},
     "output_type": "execute_result"
    }
   ],
   "source": [
    "math.sinh(x)"
   ]
  },
  {
   "cell_type": "code",
   "execution_count": 27,
   "id": "e586a551",
   "metadata": {},
   "outputs": [
    {
     "data": {
      "text/plain": [
       "242582597.70489514"
      ]
     },
     "execution_count": 27,
     "metadata": {},
     "output_type": "execute_result"
    }
   ],
   "source": [
    "math.cosh(x)"
   ]
  },
  {
   "cell_type": "code",
   "execution_count": 28,
   "id": "7f859b00",
   "metadata": {},
   "outputs": [
    {
     "data": {
      "text/plain": [
       "1.0"
      ]
     },
     "execution_count": 28,
     "metadata": {},
     "output_type": "execute_result"
    }
   ],
   "source": [
    "math.tanh(x)"
   ]
  },
  {
   "cell_type": "markdown",
   "id": "28978ab5",
   "metadata": {},
   "source": [
    "# Angular conversion"
   ]
  },
  {
   "cell_type": "code",
   "execution_count": 30,
   "id": "fbbf4bea",
   "metadata": {},
   "outputs": [
    {
     "data": {
      "text/plain": [
       "1145.9155902616465"
      ]
     },
     "execution_count": 30,
     "metadata": {},
     "output_type": "execute_result"
    }
   ],
   "source": [
    "math.degrees(x)"
   ]
  },
  {
   "cell_type": "code",
   "execution_count": 31,
   "id": "d5f72ba1",
   "metadata": {},
   "outputs": [
    {
     "data": {
      "text/plain": [
       "0.3490658503988659"
      ]
     },
     "execution_count": 31,
     "metadata": {},
     "output_type": "execute_result"
    }
   ],
   "source": [
    "math.radians(x)"
   ]
  },
  {
   "cell_type": "markdown",
   "id": "be022492",
   "metadata": {},
   "source": [
    "# Other functions"
   ]
  },
  {
   "cell_type": "code",
   "execution_count": 43,
   "id": "28490bd5",
   "metadata": {},
   "outputs": [
    {
     "data": {
      "text/plain": [
       "1"
      ]
     },
     "execution_count": 43,
     "metadata": {},
     "output_type": "execute_result"
    }
   ],
   "source": [
    "x = 0.985\n",
    "math.ceil(x)\n"
   ]
  },
  {
   "cell_type": "code",
   "execution_count": 44,
   "id": "a1a8fde7",
   "metadata": {},
   "outputs": [
    {
     "data": {
      "text/plain": [
       "0"
      ]
     },
     "execution_count": 44,
     "metadata": {},
     "output_type": "execute_result"
    }
   ],
   "source": [
    "math.floor(x)"
   ]
  },
  {
   "cell_type": "code",
   "execution_count": 49,
   "id": "4c8a4d3e",
   "metadata": {},
   "outputs": [],
   "source": [
    "x = 20.98\n",
    "#math.factorial(x)"
   ]
  },
  {
   "cell_type": "code",
   "execution_count": 50,
   "id": "f520cf0b",
   "metadata": {},
   "outputs": [
    {
     "data": {
      "text/plain": [
       "(0.9800000000000004, 20.0)"
      ]
     },
     "execution_count": 50,
     "metadata": {},
     "output_type": "execute_result"
    }
   ],
   "source": [
    "math.modf(x)"
   ]
  },
  {
   "cell_type": "code",
   "execution_count": null,
   "id": "2031dced",
   "metadata": {},
   "outputs": [],
   "source": []
  }
 ],
 "metadata": {
  "kernelspec": {
   "display_name": "Python 3 (ipykernel)",
   "language": "python",
   "name": "python3"
  },
  "language_info": {
   "codemirror_mode": {
    "name": "ipython",
    "version": 3
   },
   "file_extension": ".py",
   "mimetype": "text/x-python",
   "name": "python",
   "nbconvert_exporter": "python",
   "pygments_lexer": "ipython3",
   "version": "3.11.2"
  }
 },
 "nbformat": 4,
 "nbformat_minor": 5
}
