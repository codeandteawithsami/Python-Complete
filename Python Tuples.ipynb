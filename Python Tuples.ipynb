{
 "cells": [
  {
   "cell_type": "code",
   "execution_count": 7,
   "id": "73e67328",
   "metadata": {
    "scrolled": true,
    "slideshow": {
     "slide_type": "-"
    }
   },
   "outputs": [
    {
     "name": "stdout",
     "output_type": "stream",
     "text": [
      "<class 'tuple'>\n",
      "5\n"
     ]
    }
   ],
   "source": [
    "#Python Tuples---->indexed---->ordered----->immutable---->allow duplicates\n",
    "t = (1,2,3,4,5,5)\n",
    "print(type(t))\n",
    "\n",
    "print(t[4])\n"
   ]
  },
  {
   "cell_type": "code",
   "execution_count": 13,
   "id": "00725a0a",
   "metadata": {
    "scrolled": true
   },
   "outputs": [
    {
     "name": "stdout",
     "output_type": "stream",
     "text": [
      "<class 'tuple'>\n",
      "<class 'list'>\n",
      "[1, 0, 3, 4, 5, 5]\n",
      "<class 'tuple'>\n"
     ]
    }
   ],
   "source": [
    "#python update tuples --->list---->tuples(t) ---->convert into(list) --->return back to tuple\n",
    "t = (1,2,3,4,5,5)\n",
    "l = list(t)\n",
    "print(type(t));print(type(l))\n",
    "l[1] = 0\n",
    "print(l)\n",
    "t = tuple(l)\n",
    "print(type(t))\n",
    "\n",
    "\n"
   ]
  },
  {
   "cell_type": "code",
   "execution_count": 17,
   "id": "cc3f6c20",
   "metadata": {
    "scrolled": true
   },
   "outputs": [
    {
     "data": {
      "text/plain": [
       "(1, 2, 3, 4, 5, 6, 5, 7)"
      ]
     },
     "execution_count": 17,
     "metadata": {},
     "output_type": "execute_result"
    }
   ],
   "source": [
    "#add tuples to tuple\n",
    "a = (1,2,3,4,5)\n",
    "b = (6,5,7)\n",
    "c = a+b\n",
    "c"
   ]
  },
  {
   "cell_type": "code",
   "execution_count": 21,
   "id": "503c751f",
   "metadata": {
    "scrolled": true
   },
   "outputs": [
    {
     "name": "stdout",
     "output_type": "stream",
     "text": [
      "(1, 2, 3, 4, 5, 5)\n",
      "<class 'tuple'>\n",
      "<class 'list'>\n",
      "<class 'tuple'>\n",
      "(1, 2, 4, 5, 5)\n"
     ]
    }
   ],
   "source": [
    "#remove items\n",
    "t = (1,2,3,4,5,5)\n",
    "print(t)\n",
    "l = list(t)\n",
    "print(type(t));print(type(l))\n",
    "l.remove(3)\n",
    "t = tuple(l)\n",
    "print(type(t))\n",
    "print(t)\n",
    "\n"
   ]
  },
  {
   "cell_type": "code",
   "execution_count": 22,
   "id": "1f5fd1bf",
   "metadata": {
    "scrolled": true
   },
   "outputs": [],
   "source": [
    "del t"
   ]
  },
  {
   "cell_type": "markdown",
   "id": "ca4f58ed",
   "metadata": {},
   "source": [
    "# python loops tuples"
   ]
  },
  {
   "cell_type": "code",
   "execution_count": 24,
   "id": "3cfebede",
   "metadata": {
    "scrolled": true
   },
   "outputs": [
    {
     "name": "stdout",
     "output_type": "stream",
     "text": [
      "1\n",
      "2\n",
      "3\n",
      "45\n",
      "6\n",
      "6\n"
     ]
    }
   ],
   "source": [
    "t = (1,2,3,45,6,6)\n",
    "for i in t:\n",
    "    print(i)"
   ]
  },
  {
   "cell_type": "code",
   "execution_count": 25,
   "id": "58f0dca5",
   "metadata": {
    "scrolled": true
   },
   "outputs": [
    {
     "name": "stdout",
     "output_type": "stream",
     "text": [
      "0\n",
      "1\n",
      "2\n",
      "3\n",
      "4\n",
      "5\n"
     ]
    }
   ],
   "source": [
    "for i in range(len(t)):\n",
    "    print(i)"
   ]
  },
  {
   "cell_type": "code",
   "execution_count": 27,
   "id": "ba168e6c",
   "metadata": {},
   "outputs": [
    {
     "name": "stdout",
     "output_type": "stream",
     "text": [
      "(1, 2, 3, 45, 6, 6)\n",
      "(1, 2, 3, 45, 6, 6)\n",
      "(1, 2, 3, 45, 6, 6)\n",
      "(1, 2, 3, 45, 6, 6)\n",
      "(1, 2, 3, 45, 6, 6)\n",
      "(1, 2, 3, 45, 6, 6)\n"
     ]
    }
   ],
   "source": [
    "t = t\n",
    "i = 0\n",
    "while i < len(t):\n",
    "    print(t)\n",
    "    i += 1"
   ]
  },
  {
   "cell_type": "markdown",
   "id": "0006b4ca",
   "metadata": {},
   "source": [
    "# unpack tuples"
   ]
  },
  {
   "cell_type": "code",
   "execution_count": 29,
   "id": "85b51e49",
   "metadata": {},
   "outputs": [],
   "source": [
    "s = ('sir','code','tea','sucbdribe','karo')\n",
    "a,b,c,d,e = s"
   ]
  },
  {
   "cell_type": "code",
   "execution_count": 37,
   "id": "51e3f4c6",
   "metadata": {},
   "outputs": [],
   "source": [
    "#*stric method\n",
    "\n",
    "#a,b,*c = s\n",
    "a,*b,c = s"
   ]
  },
  {
   "cell_type": "code",
   "execution_count": 40,
   "id": "5e653669",
   "metadata": {},
   "outputs": [
    {
     "data": {
      "text/plain": [
       "'sir'"
      ]
     },
     "execution_count": 40,
     "metadata": {},
     "output_type": "execute_result"
    }
   ],
   "source": [
    "a"
   ]
  },
  {
   "cell_type": "code",
   "execution_count": 7,
   "id": "2ded68fe",
   "metadata": {
    "scrolled": true
   },
   "outputs": [],
   "source": [
    "#index and count"
   ]
  },
  {
   "cell_type": "code",
   "execution_count": 49,
   "id": "f015263a",
   "metadata": {
    "scrolled": true
   },
   "outputs": [
    {
     "data": {
      "text/plain": [
       "2"
      ]
     },
     "execution_count": 49,
     "metadata": {},
     "output_type": "execute_result"
    }
   ],
   "source": [
    "c = (1,2,3,4,5,6,3,7)\n",
    "x = c.index(3)\n",
    "x"
   ]
  },
  {
   "cell_type": "code",
   "execution_count": 50,
   "id": "8222fcc9",
   "metadata": {},
   "outputs": [
    {
     "data": {
      "text/plain": [
       "2"
      ]
     },
     "execution_count": 50,
     "metadata": {},
     "output_type": "execute_result"
    }
   ],
   "source": [
    "s = c.count(3)\n",
    "s"
   ]
  },
  {
   "cell_type": "code",
   "execution_count": null,
   "id": "37089ef4",
   "metadata": {},
   "outputs": [],
   "source": []
  }
 ],
 "metadata": {
  "celltoolbar": "Edit Metadata",
  "kernelspec": {
   "display_name": "Python 3 (ipykernel)",
   "language": "python",
   "name": "python3"
  },
  "language_info": {
   "codemirror_mode": {
    "name": "ipython",
    "version": 3
   },
   "file_extension": ".py",
   "mimetype": "text/x-python",
   "name": "python",
   "nbconvert_exporter": "python",
   "pygments_lexer": "ipython3",
   "version": "3.11.2"
  }
 },
 "nbformat": 4,
 "nbformat_minor": 5
}
