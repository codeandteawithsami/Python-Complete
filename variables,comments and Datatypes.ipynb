{
 "cells": [
  {
   "cell_type": "code",
   "execution_count": 1,
   "id": "8d9e53f8",
   "metadata": {},
   "outputs": [],
   "source": [
    "#variables --->containers(which contain some values)\n",
    "#name = identifier ---> assign"
   ]
  },
  {
   "cell_type": "code",
   "execution_count": 4,
   "id": "360fd2b5",
   "metadata": {},
   "outputs": [],
   "source": [
    "a = 34 #this is variable"
   ]
  },
  {
   "cell_type": "code",
   "execution_count": 5,
   "id": "ef103834",
   "metadata": {},
   "outputs": [
    {
     "data": {
      "text/plain": [
       "34"
      ]
     },
     "execution_count": 5,
     "metadata": {},
     "output_type": "execute_result"
    }
   ],
   "source": [
    "a"
   ]
  },
  {
   "cell_type": "markdown",
   "id": "65a06c8d",
   "metadata": {},
   "source": [
    "# Comments"
   ]
  },
  {
   "cell_type": "code",
   "execution_count": 10,
   "id": "8a47a560",
   "metadata": {},
   "outputs": [],
   "source": [
    "#this is comment :single line comment\n",
    "#njcwncndknvk\n",
    "#bvhdsbvfdv\n",
    "#dvbcjdh fd\n",
    "#bchj jv kjd vc"
   ]
  },
  {
   "cell_type": "code",
   "execution_count": 12,
   "id": "94862fd5",
   "metadata": {},
   "outputs": [
    {
     "data": {
      "text/plain": [
       "'this is a text and this is multi line comments.\\nthis is new line and we can got it\\n'"
      ]
     },
     "execution_count": 12,
     "metadata": {},
     "output_type": "execute_result"
    }
   ],
   "source": [
    "'''this is a text and this is multi line comments.\n",
    "this is new line and we can got it\n",
    "'''"
   ]
  },
  {
   "cell_type": "code",
   "execution_count": 13,
   "id": "625e319b",
   "metadata": {},
   "outputs": [
    {
     "data": {
      "text/plain": [
       "'\\nnumeric DT--->int,float,complex\\nseries DT--->strings,list,tuples\\nmap DT ---> dictionary\\nsets datatype ---> sets,frozentype\\nnone types ---> Nonetype\\n'"
      ]
     },
     "execution_count": 13,
     "metadata": {},
     "output_type": "execute_result"
    }
   ],
   "source": [
    "#Python datatypes\n",
    "'''\n",
    "numeric DT--->int,float,complex\n",
    "series DT--->strings,list,tuples\n",
    "map DT ---> dictionary\n",
    "sets datatype ---> sets,frozentype\n",
    "none types ---> Nonetype\n",
    "'''"
   ]
  },
  {
   "cell_type": "code",
   "execution_count": 15,
   "id": "74cd83ef",
   "metadata": {},
   "outputs": [
    {
     "name": "stdout",
     "output_type": "stream",
     "text": [
      "54\n",
      "2.3\n",
      "(4+5j)\n",
      "<class 'int'>\n",
      "<class 'float'>\n",
      "<class 'complex'>\n"
     ]
    }
   ],
   "source": [
    "#numerics DT\n",
    "a = 54\n",
    "b = 2.3 #points\n",
    "c = 4 + 5j #real + imag\n",
    "\n",
    "print(a);print(b);print(c)\n",
    "print(type(a));print(type(b));print(type(c))"
   ]
  },
  {
   "cell_type": "code",
   "execution_count": 18,
   "id": "89d39674",
   "metadata": {},
   "outputs": [
    {
     "name": "stdout",
     "output_type": "stream",
     "text": [
      "code and tea with samiullah ko sub kro\n",
      "[1, 2, 3, 4, 5, 5, 6]\n",
      "(1, 2, 3, 4, 5, 6, 6)\n",
      "<class 'str'>\n",
      "<class 'list'>\n",
      "<class 'tuple'>\n"
     ]
    }
   ],
   "source": [
    "#series\n",
    "#string --->indexed---->immuteable\n",
    "#list ----> ordered---->muteable\n",
    "#tuples --->orderd --->immutable\n",
    "\n",
    "a = 'code and tea with samiullah ko sub kro'\n",
    "l = [1,2,3,4,5,5,6]\n",
    "t = (1,2,3,4,5,6,6)\n",
    "print(a);print(l);print(t)\n",
    "print(type(a));print(type(l));print(type(t))"
   ]
  },
  {
   "cell_type": "code",
   "execution_count": 23,
   "id": "8e78aea6",
   "metadata": {},
   "outputs": [
    {
     "name": "stdout",
     "output_type": "stream",
     "text": [
      "catws\n",
      "<class 'dict'>\n"
     ]
    }
   ],
   "source": [
    "#maping\n",
    "#dict ---->unordered --->key-values pattern\n",
    "d = {'name':'samiullah','channel name':'catws'}\n",
    "print(d['channel name'])\n",
    "print(type(d))"
   ]
  },
  {
   "cell_type": "code",
   "execution_count": 31,
   "id": "38875b24",
   "metadata": {},
   "outputs": [
    {
     "name": "stdout",
     "output_type": "stream",
     "text": [
      "{1, 2, 3, 4, 5, 6, 56}\n",
      "<class 'set'>\n",
      "{1, 2, 3, 4, 5, 6}\n"
     ]
    }
   ],
   "source": [
    "#sets\n",
    "#sets --->unoredred ---->mutable --->collection of unqiue elements\n",
    "#frozensets --->unoredred ---->immutable --->collection of unqiue elements\n",
    "s = {1,2,3,4,5,56,6}\n",
    "print(s)\n",
    "print(type(s))\n",
    "\n",
    "f = ({1,2,3,4,5,6})\n",
    "print(f)"
   ]
  },
  {
   "cell_type": "code",
   "execution_count": 32,
   "id": "c7947669",
   "metadata": {},
   "outputs": [
    {
     "name": "stdout",
     "output_type": "stream",
     "text": [
      "<class 'set'>\n"
     ]
    }
   ],
   "source": [
    "print(type(f))"
   ]
  },
  {
   "cell_type": "code",
   "execution_count": 35,
   "id": "a1256431",
   "metadata": {},
   "outputs": [
    {
     "name": "stdout",
     "output_type": "stream",
     "text": [
      "True\n"
     ]
    }
   ],
   "source": [
    "#boolean --->True and false\n",
    "is_raining = True\n",
    "is_sunny = False\n",
    "is_cloudy = is_raining or is_sunny\n",
    "print(is_cloudy)"
   ]
  },
  {
   "cell_type": "code",
   "execution_count": null,
   "id": "c3c587df",
   "metadata": {},
   "outputs": [],
   "source": [
    "#Nonetype"
   ]
  }
 ],
 "metadata": {
  "kernelspec": {
   "display_name": "Python 3 (ipykernel)",
   "language": "python",
   "name": "python3"
  },
  "language_info": {
   "codemirror_mode": {
    "name": "ipython",
    "version": 3
   },
   "file_extension": ".py",
   "mimetype": "text/x-python",
   "name": "python",
   "nbconvert_exporter": "python",
   "pygments_lexer": "ipython3",
   "version": "3.11.2"
  }
 },
 "nbformat": 4,
 "nbformat_minor": 5
}
