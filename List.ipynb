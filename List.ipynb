{
 "cells": [
  {
   "cell_type": "code",
   "execution_count": 2,
   "id": "4c69c5af",
   "metadata": {},
   "outputs": [
    {
     "name": "stdout",
     "output_type": "stream",
     "text": [
      "[1, 2, 3, 4, 5, 6, 7]\n",
      "<class 'list'>\n"
     ]
    }
   ],
   "source": [
    "#List -->DT --->series --->indexed ---> oredered ----> muteable\n",
    "#syntax\n",
    "l = [1,2,3,4,5,6,7]\n",
    "print(l)\n",
    "print(type(l))"
   ]
  },
  {
   "cell_type": "code",
   "execution_count": 6,
   "id": "2501de5f",
   "metadata": {},
   "outputs": [
    {
     "name": "stdout",
     "output_type": "stream",
     "text": [
      "4\n"
     ]
    }
   ],
   "source": [
    "#acees list\n",
    "print(l[3])"
   ]
  },
  {
   "cell_type": "code",
   "execution_count": 8,
   "id": "f11161ca",
   "metadata": {},
   "outputs": [
    {
     "data": {
      "text/plain": [
       "[1, 2, 3, 4, 5, 6, 7, 7]"
      ]
     },
     "execution_count": 8,
     "metadata": {},
     "output_type": "execute_result"
    }
   ],
   "source": [
    "# Allow duplicates\n",
    "l = [1,2,3,4,5,6,7,7]\n",
    "l"
   ]
  },
  {
   "cell_type": "code",
   "execution_count": 10,
   "id": "30c12c8b",
   "metadata": {},
   "outputs": [
    {
     "name": "stdout",
     "output_type": "stream",
     "text": [
      "8\n"
     ]
    }
   ],
   "source": [
    "#list length\n",
    "print(len(l))"
   ]
  },
  {
   "cell_type": "code",
   "execution_count": 12,
   "id": "5fad2951",
   "metadata": {},
   "outputs": [
    {
     "name": "stdout",
     "output_type": "stream",
     "text": [
      "<class 'list'>\n"
     ]
    }
   ],
   "source": [
    "#list items - DT---->type\n",
    "l = [1,3.4,'strings',6+5j]\n",
    "print(type(l))"
   ]
  },
  {
   "cell_type": "code",
   "execution_count": 14,
   "id": "a368714d",
   "metadata": {},
   "outputs": [
    {
     "name": "stdout",
     "output_type": "stream",
     "text": [
      "[1, 2, 3, 4, 5]\n",
      "<class 'list'>\n"
     ]
    }
   ],
   "source": [
    "#the list constructor\n",
    "l1 = list((1,2,3,4,5))\n",
    "print(l1)\n",
    "print(type(l1))"
   ]
  },
  {
   "cell_type": "markdown",
   "id": "591a1556",
   "metadata": {},
   "source": [
    "# Acces List items"
   ]
  },
  {
   "cell_type": "code",
   "execution_count": 22,
   "id": "bead8201",
   "metadata": {},
   "outputs": [
    {
     "name": "stdout",
     "output_type": "stream",
     "text": [
      "['string3']\n",
      "['string1', 'string2']\n",
      "['string3', 'string1']\n",
      "['string1', 'string2', 'string3']\n",
      "yes\n"
     ]
    }
   ],
   "source": [
    "#indexing ---- >positive and negative ---->check availaibility\n",
    "l2 = ['string1','string2','string3','string1']\n",
    "print(l2[2:3])\n",
    "print(l2[:2])\n",
    "print(l2[2:])\n",
    "print(l2[:-1])\n",
    "if 'string1' in l2:\n",
    "    print('yes')\n"
   ]
  },
  {
   "cell_type": "markdown",
   "id": "560621ba",
   "metadata": {},
   "source": [
    "# Change list items and Add  items"
   ]
  },
  {
   "cell_type": "code",
   "execution_count": 27,
   "id": "6647c258",
   "metadata": {},
   "outputs": [
    {
     "name": "stdout",
     "output_type": "stream",
     "text": [
      "['string1', 'Code', 'Code', 'string1']\n",
      "['string1', 'Code', 'Code', 'string1']\n"
     ]
    }
   ],
   "source": [
    "#Through indexed\n",
    "print(l2)\n",
    "l2[2] = \"Code\"\n",
    "print(l2)\n",
    "l2[1] = \"Code\"\n"
   ]
  },
  {
   "cell_type": "code",
   "execution_count": 35,
   "id": "33bad579",
   "metadata": {},
   "outputs": [
    {
     "name": "stdout",
     "output_type": "stream",
     "text": [
      "['string1', 'Code', 'insert2', 'insert2', 'insert2', 'insert2', 'insert', 'insert', 'insert', 'Code', 'string1']\n"
     ]
    }
   ],
   "source": [
    "#insert item --- >specific loc\n",
    "#print(l2)\n",
    "l2.insert(2,'insert2')\n",
    "print(l2)"
   ]
  },
  {
   "cell_type": "code",
   "execution_count": 41,
   "id": "49b53cce",
   "metadata": {},
   "outputs": [
    {
     "name": "stdout",
     "output_type": "stream",
     "text": [
      "[1, 2, 3, 4, 5, 6, 7, 8]\n"
     ]
    }
   ],
   "source": [
    "#extend ----> Add any iterable --->tuples\n",
    "\n",
    "l1 = [1,2,3,4]\n",
    "l2 = [5,6,7,8]\n",
    "l1.extend(l2)\n",
    "print(l1)"
   ]
  },
  {
   "cell_type": "markdown",
   "id": "7cfcfd8e",
   "metadata": {},
   "source": [
    "# Remove item\n",
    "\n",
    "\n",
    "\n"
   ]
  },
  {
   "cell_type": "code",
   "execution_count": 44,
   "id": "a2382e35",
   "metadata": {},
   "outputs": [
    {
     "name": "stdout",
     "output_type": "stream",
     "text": [
      "[6, 8]\n"
     ]
    }
   ],
   "source": [
    "#remove\n",
    "l2.remove(7)\n",
    "print(l2)\n",
    "\n",
    "\n"
   ]
  },
  {
   "cell_type": "code",
   "execution_count": 64,
   "id": "d2afb47f",
   "metadata": {},
   "outputs": [
    {
     "name": "stdout",
     "output_type": "stream",
     "text": [
      "[1, 2, 3, 4, 5]\n",
      "[1, 2, 3, 4]\n"
     ]
    }
   ],
   "source": [
    "#pop\n",
    "#l1.pop(1)\n",
    "#print(l1)\n",
    "l1 = [1, 2, 3, 4, 5, 6, 7, 8]\n",
    "print(l1)\n",
    "l1.pop()\n",
    "print(l1)"
   ]
  },
  {
   "cell_type": "code",
   "execution_count": 68,
   "id": "1e5c16f8",
   "metadata": {},
   "outputs": [
    {
     "name": "stdout",
     "output_type": "stream",
     "text": [
      "[1, 2, 4, 5, 6, 7, 8]\n"
     ]
    }
   ],
   "source": [
    "#del\n",
    "l1 = [1, 2, 3, 4, 5, 6, 7, 8]\n",
    "del l1[2]\n",
    "print(l1)\n",
    "\n",
    "\n"
   ]
  },
  {
   "cell_type": "code",
   "execution_count": 70,
   "id": "04b1461e",
   "metadata": {},
   "outputs": [
    {
     "name": "stdout",
     "output_type": "stream",
     "text": [
      "[]\n"
     ]
    }
   ],
   "source": [
    "#clear\n",
    "\n",
    "l1 = [1, 2, 3, 4, 5, 6, 7, 8]\n",
    "l1.clear()\n",
    "\n",
    "\n",
    "print(l1)"
   ]
  },
  {
   "cell_type": "markdown",
   "id": "55afa51c",
   "metadata": {},
   "source": [
    "# loop list"
   ]
  },
  {
   "cell_type": "code",
   "execution_count": 76,
   "id": "a8650c58",
   "metadata": {},
   "outputs": [
    {
     "name": "stdout",
     "output_type": "stream",
     "text": [
      "0\n",
      "1\n",
      "2\n",
      "3\n",
      "4\n",
      "5\n",
      "6\n",
      "7\n"
     ]
    }
   ],
   "source": [
    "#for loop --->also with range\n",
    "\n",
    "l1 = [1, 2, 3, 4, 5, 6, 7, 8]\n",
    "#for i in l1:\n",
    " #   print(i)\n",
    "for i in range(len(l1)):\n",
    "    print(i)"
   ]
  },
  {
   "cell_type": "code",
   "execution_count": 77,
   "id": "97d5220e",
   "metadata": {},
   "outputs": [
    {
     "name": "stdout",
     "output_type": "stream",
     "text": [
      "0\n",
      "1\n",
      "2\n",
      "3\n",
      "4\n",
      "5\n",
      "6\n",
      "7\n"
     ]
    }
   ],
   "source": [
    "#while loop\n",
    "\n",
    "\n",
    "l1 = [1, 2, 3, 4, 5, 6, 7, 8]\n",
    "i = 0\n",
    "while i < len(l1):\n",
    "    print(i)\n",
    "    i += 1"
   ]
  },
  {
   "cell_type": "code",
   "execution_count": 80,
   "id": "0d580601",
   "metadata": {},
   "outputs": [],
   "source": [
    "#shortest way list comphrehesnion\n",
    "\n"
   ]
  },
  {
   "cell_type": "markdown",
   "id": "ae04df3d",
   "metadata": {},
   "source": [
    "# list comphrehensions"
   ]
  },
  {
   "cell_type": "code",
   "execution_count": 18,
   "id": "d8d8b53e",
   "metadata": {},
   "outputs": [],
   "source": [
    "#newlist = [expression for item in iterable if condition == True]\n",
    "\n",
    "\n",
    "\n",
    "\n"
   ]
  },
  {
   "cell_type": "markdown",
   "id": "3e369689",
   "metadata": {},
   "source": [
    "# sort list"
   ]
  },
  {
   "cell_type": "code",
   "execution_count": 93,
   "id": "e507a509",
   "metadata": {},
   "outputs": [
    {
     "name": "stdout",
     "output_type": "stream",
     "text": [
      "['z', 'r', 'a']\n",
      "['a', 'r', 'z']\n"
     ]
    }
   ],
   "source": [
    "#sort ascending and descending - ---Task>\n",
    "l3 = ['z','r','a']\n",
    "print(l3)\n",
    "l3.sort()\n",
    "print(l3)"
   ]
  },
  {
   "cell_type": "code",
   "execution_count": 20,
   "id": "3816db15",
   "metadata": {},
   "outputs": [],
   "source": [
    "#reverse\n",
    "\n",
    "\n",
    "\n"
   ]
  },
  {
   "cell_type": "markdown",
   "id": "e409c855",
   "metadata": {},
   "source": [
    "# join list\n",
    "\n",
    "\n",
    "\n",
    "\n"
   ]
  },
  {
   "cell_type": "code",
   "execution_count": 97,
   "id": "5df35d6f",
   "metadata": {},
   "outputs": [
    {
     "name": "stdout",
     "output_type": "stream",
     "text": [
      "[1, 2, 3, 4, 5, 6, 7, 8]\n",
      "[1, 2, 3, 4, 5, 6, 7, 8, 1, 2, 3, 4, 5, 6, 7, 8]\n"
     ]
    }
   ],
   "source": [
    "#loops\n",
    "print(l1)\n",
    "l2 = [1, 2, 3, 4, 5, 6, 7, 8]\n",
    "for i in l1:\n",
    "    l2.append(i)\n",
    "print(l2)\n"
   ]
  },
  {
   "cell_type": "code",
   "execution_count": 99,
   "id": "33fd578a",
   "metadata": {},
   "outputs": [
    {
     "data": {
      "text/plain": [
       "[1, 2, 3, 4, 5, 6, 7, 8, 1, 2, 3, 4, 5, 6, 7, 8, 1, 2, 3, 4, 5, 6, 7, 8]"
      ]
     },
     "execution_count": 99,
     "metadata": {},
     "output_type": "execute_result"
    }
   ],
   "source": [
    "#+\n",
    "\n",
    "l3 = l1 + l2\n",
    "l3\n"
   ]
  },
  {
   "cell_type": "code",
   "execution_count": 101,
   "id": "369811c0",
   "metadata": {},
   "outputs": [
    {
     "data": {
      "text/plain": [
       "[1,\n",
       " 2,\n",
       " 3,\n",
       " 4,\n",
       " 5,\n",
       " 6,\n",
       " 7,\n",
       " 8,\n",
       " 1,\n",
       " 2,\n",
       " 3,\n",
       " 4,\n",
       " 5,\n",
       " 6,\n",
       " 7,\n",
       " 8,\n",
       " 1,\n",
       " 2,\n",
       " 3,\n",
       " 4,\n",
       " 5,\n",
       " 6,\n",
       " 7,\n",
       " 8,\n",
       " 1,\n",
       " 2,\n",
       " 3,\n",
       " 4,\n",
       " 5,\n",
       " 6,\n",
       " 7,\n",
       " 8,\n",
       " 1,\n",
       " 2,\n",
       " 3,\n",
       " 4,\n",
       " 5,\n",
       " 6,\n",
       " 7,\n",
       " 8]"
      ]
     },
     "execution_count": 101,
     "metadata": {},
     "output_type": "execute_result"
    }
   ],
   "source": [
    "#extends\n",
    "\n",
    "l1.extend(l2)\n",
    "l1"
   ]
  }
 ],
 "metadata": {
  "kernelspec": {
   "display_name": "Python 3 (ipykernel)",
   "language": "python",
   "name": "python3"
  },
  "language_info": {
   "codemirror_mode": {
    "name": "ipython",
    "version": 3
   },
   "file_extension": ".py",
   "mimetype": "text/x-python",
   "name": "python",
   "nbconvert_exporter": "python",
   "pygments_lexer": "ipython3",
   "version": "3.11.2"
  }
 },
 "nbformat": 4,
 "nbformat_minor": 5
}
