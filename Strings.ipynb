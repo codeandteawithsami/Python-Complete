{
 "cells": [
  {
   "cell_type": "code",
   "execution_count": 1,
   "id": "6b1fa299",
   "metadata": {},
   "outputs": [],
   "source": [
    "#string syntax\n",
    "#'',\"\""
   ]
  },
  {
   "cell_type": "code",
   "execution_count": 2,
   "id": "4c1ebb17",
   "metadata": {},
   "outputs": [
    {
     "name": "stdout",
     "output_type": "stream",
     "text": [
      "single line string\n",
      "this is multiline strings\n",
      "this is multiline strings\n",
      "this is multiline strings\n",
      "this is multiline strings\n"
     ]
    }
   ],
   "source": [
    "#single and multiline strings\n",
    "a = 'single line string'\n",
    "print(a)\n",
    "b = \"\"\"this is multiline strings\n",
    "this is multiline strings\n",
    "this is multiline strings\n",
    "this is multiline strings\"\"\"\n",
    "print(b)\n",
    "\n",
    "\n"
   ]
  },
  {
   "cell_type": "code",
   "execution_count": 3,
   "id": "9743b226",
   "metadata": {},
   "outputs": [
    {
     "name": "stdout",
     "output_type": "stream",
     "text": [
      "s\n",
      "n\n"
     ]
    }
   ],
   "source": [
    "#strings as array\n",
    "a = 'single line'\n",
    "print(a[0])\n",
    "print(a[2])"
   ]
  },
  {
   "cell_type": "code",
   "execution_count": 4,
   "id": "40d564c5",
   "metadata": {},
   "outputs": [
    {
     "name": "stdout",
     "output_type": "stream",
     "text": [
      "s\n",
      "i\n",
      "n\n",
      "g\n",
      "l\n",
      "e\n",
      " \n"
     ]
    }
   ],
   "source": [
    "#loops throgh strings\n",
    "for i in \"single \":\n",
    "    print(i)\n",
    "\n",
    "\n",
    "\n"
   ]
  },
  {
   "cell_type": "code",
   "execution_count": 5,
   "id": "bd05f894",
   "metadata": {},
   "outputs": [
    {
     "name": "stdout",
     "output_type": "stream",
     "text": [
      "single line\n",
      "11\n"
     ]
    }
   ],
   "source": [
    "#strings length\n",
    "print(a)\n",
    "print((len(a)))"
   ]
  },
  {
   "cell_type": "code",
   "execution_count": 13,
   "id": "512c6601",
   "metadata": {},
   "outputs": [
    {
     "name": "stdout",
     "output_type": "stream",
     "text": [
      "True\n",
      "False\n",
      "no\n"
     ]
    }
   ],
   "source": [
    "#check string (in and not in) also with if\n",
    "text = \"this is single line text\"\n",
    "print(\"is\" in text)\n",
    "print(\"is\" not in text)\n",
    "if \"ii\" not in text:\n",
    "    print('no')\n",
    "#if \"is\" in text:\n",
    " #   print('yes')\n",
    "\n",
    "#if \"is\" not in text:\n",
    " #   print('no')"
   ]
  },
  {
   "cell_type": "code",
   "execution_count": 21,
   "id": "5891ef19",
   "metadata": {},
   "outputs": [
    {
     "name": "stdout",
     "output_type": "stream",
     "text": [
      "si\n",
      "ngle line\n",
      "ngle li\n",
      "e\n",
      "ill\n"
     ]
    }
   ],
   "source": [
    "#slicing\n",
    "a = 'single line'\n",
    "print(a[:2])\n",
    "print(a[2:])\n",
    "print(a[2:9])\n",
    "print(a[-1:])\n",
    "print(a[1:9:3])"
   ]
  },
  {
   "cell_type": "code",
   "execution_count": 36,
   "id": "bd17d631",
   "metadata": {},
   "outputs": [
    {
     "name": "stdout",
     "output_type": "stream",
     "text": [
      "       SINGLE, LINE             \n",
      "       single, line             \n",
      "       single, line             \n",
      "32\n",
      "       single, line             \n",
      "single, line             \n",
      "       single, line\n",
      "12\n",
      "       singLe, Line             \n",
      "['single', ' line']\n"
     ]
    }
   ],
   "source": [
    "#modify strings(upercase/lowrcase,removewhitespaces,replace,split)\n",
    "a = '       single, line             '\n",
    "print(a.upper())\n",
    "print(a.capitalize())\n",
    "print(a.lower())\n",
    "print(len(a))\n",
    "d = a.strip()\n",
    "l = a.lstrip()\n",
    "r = a.rstrip()\n",
    "print(a);print(l);print(r)\n",
    "print(len(d))\n",
    "print(a.replace('l',\"L\"))\n",
    "print(d.split(','))\n"
   ]
  },
  {
   "cell_type": "code",
   "execution_count": 38,
   "id": "38ba7d31",
   "metadata": {},
   "outputs": [
    {
     "name": "stdout",
     "output_type": "stream",
     "text": [
      "singleline\n",
      "single line\n"
     ]
    }
   ],
   "source": [
    "#concatenation\n",
    "a = 'single'\n",
    "b = 'line'\n",
    "c = a+b\n",
    "print(c)\n",
    "d = a + \" \" + b\n",
    "print(d)\n"
   ]
  },
  {
   "cell_type": "code",
   "execution_count": 44,
   "id": "fb72a11d",
   "metadata": {},
   "outputs": [
    {
     "name": "stdout",
     "output_type": "stream",
     "text": [
      "my age is 6\n",
      "my age is 6\n",
      "the first value is 1 and second is 2 and third is 3\n",
      "the first value is 2 and second is 1 and third is 3\n"
     ]
    }
   ],
   "source": [
    "#formats\n",
    "a = '6'\n",
    "text  = \"my age is \" + a\n",
    "print(text)\n",
    "\n",
    "text = \"my age is {}\"\n",
    "print(text.format(a))\n",
    "\n",
    "\n",
    "a = 1\n",
    "b = 2\n",
    "c = 3\n",
    "text = 'the first value is {} and second is {} and third is {}'\n",
    "print(text.format(a,b,c))\n",
    "\n",
    "a = 1\n",
    "b = 2\n",
    "c = 3\n",
    "text = 'the first value is {1} and second is {0} and third is {2}'\n",
    "print(text.format(a,b,c))"
   ]
  },
  {
   "cell_type": "code",
   "execution_count": 50,
   "id": "2c92a83c",
   "metadata": {},
   "outputs": [
    {
     "name": "stdout",
     "output_type": "stream",
     "text": [
      "this is single \"sami\" line comment\n"
     ]
    }
   ],
   "source": [
    "#secape charecters(\\r,\\t,\\b)\n",
    "print(\"this is single \\\"sami\\\" line comment\")"
   ]
  },
  {
   "cell_type": "code",
   "execution_count": 59,
   "id": "11818117",
   "metadata": {},
   "outputs": [
    {
     "name": "stdout",
     "output_type": "stream",
     "text": [
      "['    Single line     ']\n",
      "['single line']\n",
      "[True]\n",
      "[5]\n"
     ]
    }
   ],
   "source": [
    "a = 'Single line'\n",
    "print([a.center(20)])\n",
    "print([a.casefold()])\n",
    "print([a.endswith('e')])\n",
    "print([a.find('e')])"
   ]
  },
  {
   "cell_type": "code",
   "execution_count": null,
   "id": "ad081b81",
   "metadata": {},
   "outputs": [],
   "source": []
  }
 ],
 "metadata": {
  "kernelspec": {
   "display_name": "Python 3 (ipykernel)",
   "language": "python",
   "name": "python3"
  },
  "language_info": {
   "codemirror_mode": {
    "name": "ipython",
    "version": 3
   },
   "file_extension": ".py",
   "mimetype": "text/x-python",
   "name": "python",
   "nbconvert_exporter": "python",
   "pygments_lexer": "ipython3",
   "version": "3.11.2"
  }
 },
 "nbformat": 4,
 "nbformat_minor": 5
}
